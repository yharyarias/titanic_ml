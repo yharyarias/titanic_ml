{
 "cells": [
  {
   "cell_type": "markdown",
   "metadata": {},
   "source": [
    "## Predicting Survival on the Titanic: Comparison of Models\n",
    "\n",
    "## Introduction\n",
    "\n",
    "In this project, my goal is to predict the survival of passengers aboard the Titanic using machine learning models. The dataset contains various characteristics, such as age, gender, ticket class, etc., of each passenger, and the target variable is whether the passenger survived or not.\n",
    "\n",
    "To accomplish this prediction task, we will compare the performance of different classification models. We will evaluate each model using various metrics such as accuracy, precision, recall, F1 score and ROC-AUC to assess their effectiveness in predicting passenger survival.\n",
    "\n",
    "The models we will compare are\n",
    "- Logistic regression\n",
    "- Support Vector Machine (SVM)\n",
    "- Gradient Boosting classifier\n",
    "- Random Forest classifier\n",
    "\n",
    "Let's proceed with the implementation and evaluation of these models to determine which one is the best for predicting the survival of the Titanic's passengers."
   ]
  },
  {
   "cell_type": "code",
   "execution_count": 18,
   "metadata": {},
   "outputs": [],
   "source": [
    "# Standard libraries\n",
    "import pandas as pd\n",
    "import matplotlib.pyplot as plt\n",
    "\n",
    "# Data preprocessing and imputation\n",
    "from sklearn.impute import SimpleImputer\n",
    "\n",
    "# Model selection and evaluation\n",
    "from sklearn.model_selection import cross_val_score, train_test_split\n",
    "from sklearn.metrics import accuracy_score, precision_score, recall_score, f1_score, roc_curve, auc\n",
    "\n",
    "# Machine Learning models\n",
    "from sklearn.linear_model import LogisticRegression\n",
    "from sklearn.svm import SVC\n",
    "from sklearn.ensemble import GradientBoostingClassifier, RandomForestClassifier\n",
    "\n",
    "# Utility for saving and loading models\n",
    "import joblib"
   ]
  },
  {
   "cell_type": "code",
   "execution_count": 8,
   "metadata": {},
   "outputs": [],
   "source": [
    "# Load the data\n",
    "data = pd.read_csv('titanic_ml/data/titanic.csv')"
   ]
  },
  {
   "cell_type": "code",
   "execution_count": 22,
   "metadata": {},
   "outputs": [
    {
     "name": "stdout",
     "output_type": "stream",
     "text": [
      "Index(['PassengerId', 'Survived', 'Pclass', 'Name', 'Age', 'SibSp', 'Parch',\n",
      "       'Ticket', 'Fare', 'Cabin', 'Sex_female', 'Sex_male', 'Embarked_C',\n",
      "       'Embarked_Q', 'Embarked_S', 'Predicted_Survived'],\n",
      "      dtype='object')\n"
     ]
    }
   ],
   "source": [
    "# Columns\n",
    "print(data.columns)"
   ]
  },
  {
   "cell_type": "code",
   "execution_count": 10,
   "metadata": {},
   "outputs": [],
   "source": [
    "# Convert 'Sex' and 'Embarked' columns to dummy variables\n",
    "data = pd.get_dummies(data, columns=['Sex', 'Embarked'])\n",
    "\n",
    "# Separate features and target variable\n",
    "X = data[['Pclass', 'Age', 'SibSp', 'Parch', 'Fare', 'Sex_female', 'Sex_male', 'Embarked_C', 'Embarked_Q', 'Embarked_S']]\n",
    "y = data['Survived']\n",
    "\n",
    "# Use SimpleImputer with 'median' strategy\n",
    "imputer = SimpleImputer(strategy='median')\n",
    "X = imputer.fit_transform(X)"
   ]
  },
  {
   "cell_type": "code",
   "execution_count": 28,
   "metadata": {},
   "outputs": [],
   "source": [
    "# Split the data into training and testing sets\n",
    "X_train, X_test, y_train, y_test = train_test_split(X, y, test_size=0.2, random_state=42)"
   ]
  },
  {
   "cell_type": "code",
   "execution_count": 12,
   "metadata": {},
   "outputs": [],
   "source": [
    "# Create and train the models\n",
    "models = {\n",
    "    'Logistic Regression': LogisticRegression(),\n",
    "    'SVM': SVC(),\n",
    "    'Gradient Boosting': GradientBoostingClassifier(),\n",
    "    'Random Forest': RandomForestClassifier()\n",
    "}"
   ]
  },
  {
   "cell_type": "code",
   "execution_count": 13,
   "metadata": {},
   "outputs": [
    {
     "name": "stderr",
     "output_type": "stream",
     "text": [
      "/Users/yharyarias/opt/miniconda3/envs/rappi_ml/lib/python3.8/site-packages/sklearn/linear_model/_logistic.py:460: ConvergenceWarning: lbfgs failed to converge (status=1):\n",
      "STOP: TOTAL NO. of ITERATIONS REACHED LIMIT.\n",
      "\n",
      "Increase the number of iterations (max_iter) or scale the data as shown in:\n",
      "    https://scikit-learn.org/stable/modules/preprocessing.html\n",
      "Please also refer to the documentation for alternative solver options:\n",
      "    https://scikit-learn.org/stable/modules/linear_model.html#logistic-regression\n",
      "  n_iter_i = _check_optimize_result(\n",
      "/Users/yharyarias/opt/miniconda3/envs/rappi_ml/lib/python3.8/site-packages/sklearn/linear_model/_logistic.py:460: ConvergenceWarning: lbfgs failed to converge (status=1):\n",
      "STOP: TOTAL NO. of ITERATIONS REACHED LIMIT.\n",
      "\n",
      "Increase the number of iterations (max_iter) or scale the data as shown in:\n",
      "    https://scikit-learn.org/stable/modules/preprocessing.html\n",
      "Please also refer to the documentation for alternative solver options:\n",
      "    https://scikit-learn.org/stable/modules/linear_model.html#logistic-regression\n",
      "  n_iter_i = _check_optimize_result(\n",
      "/Users/yharyarias/opt/miniconda3/envs/rappi_ml/lib/python3.8/site-packages/sklearn/linear_model/_logistic.py:460: ConvergenceWarning: lbfgs failed to converge (status=1):\n",
      "STOP: TOTAL NO. of ITERATIONS REACHED LIMIT.\n",
      "\n",
      "Increase the number of iterations (max_iter) or scale the data as shown in:\n",
      "    https://scikit-learn.org/stable/modules/preprocessing.html\n",
      "Please also refer to the documentation for alternative solver options:\n",
      "    https://scikit-learn.org/stable/modules/linear_model.html#logistic-regression\n",
      "  n_iter_i = _check_optimize_result(\n",
      "/Users/yharyarias/opt/miniconda3/envs/rappi_ml/lib/python3.8/site-packages/sklearn/linear_model/_logistic.py:460: ConvergenceWarning: lbfgs failed to converge (status=1):\n",
      "STOP: TOTAL NO. of ITERATIONS REACHED LIMIT.\n",
      "\n",
      "Increase the number of iterations (max_iter) or scale the data as shown in:\n",
      "    https://scikit-learn.org/stable/modules/preprocessing.html\n",
      "Please also refer to the documentation for alternative solver options:\n",
      "    https://scikit-learn.org/stable/modules/linear_model.html#logistic-regression\n",
      "  n_iter_i = _check_optimize_result(\n",
      "/Users/yharyarias/opt/miniconda3/envs/rappi_ml/lib/python3.8/site-packages/sklearn/linear_model/_logistic.py:460: ConvergenceWarning: lbfgs failed to converge (status=1):\n",
      "STOP: TOTAL NO. of ITERATIONS REACHED LIMIT.\n",
      "\n",
      "Increase the number of iterations (max_iter) or scale the data as shown in:\n",
      "    https://scikit-learn.org/stable/modules/preprocessing.html\n",
      "Please also refer to the documentation for alternative solver options:\n",
      "    https://scikit-learn.org/stable/modules/linear_model.html#logistic-regression\n",
      "  n_iter_i = _check_optimize_result(\n",
      "/Users/yharyarias/opt/miniconda3/envs/rappi_ml/lib/python3.8/site-packages/sklearn/linear_model/_logistic.py:460: ConvergenceWarning: lbfgs failed to converge (status=1):\n",
      "STOP: TOTAL NO. of ITERATIONS REACHED LIMIT.\n",
      "\n",
      "Increase the number of iterations (max_iter) or scale the data as shown in:\n",
      "    https://scikit-learn.org/stable/modules/preprocessing.html\n",
      "Please also refer to the documentation for alternative solver options:\n",
      "    https://scikit-learn.org/stable/modules/linear_model.html#logistic-regression\n",
      "  n_iter_i = _check_optimize_result(\n",
      "/Users/yharyarias/opt/miniconda3/envs/rappi_ml/lib/python3.8/site-packages/sklearn/linear_model/_logistic.py:460: ConvergenceWarning: lbfgs failed to converge (status=1):\n",
      "STOP: TOTAL NO. of ITERATIONS REACHED LIMIT.\n",
      "\n",
      "Increase the number of iterations (max_iter) or scale the data as shown in:\n",
      "    https://scikit-learn.org/stable/modules/preprocessing.html\n",
      "Please also refer to the documentation for alternative solver options:\n",
      "    https://scikit-learn.org/stable/modules/linear_model.html#logistic-regression\n",
      "  n_iter_i = _check_optimize_result(\n",
      "/Users/yharyarias/opt/miniconda3/envs/rappi_ml/lib/python3.8/site-packages/sklearn/linear_model/_logistic.py:460: ConvergenceWarning: lbfgs failed to converge (status=1):\n",
      "STOP: TOTAL NO. of ITERATIONS REACHED LIMIT.\n",
      "\n",
      "Increase the number of iterations (max_iter) or scale the data as shown in:\n",
      "    https://scikit-learn.org/stable/modules/preprocessing.html\n",
      "Please also refer to the documentation for alternative solver options:\n",
      "    https://scikit-learn.org/stable/modules/linear_model.html#logistic-regression\n",
      "  n_iter_i = _check_optimize_result(\n",
      "/Users/yharyarias/opt/miniconda3/envs/rappi_ml/lib/python3.8/site-packages/sklearn/linear_model/_logistic.py:460: ConvergenceWarning: lbfgs failed to converge (status=1):\n",
      "STOP: TOTAL NO. of ITERATIONS REACHED LIMIT.\n",
      "\n",
      "Increase the number of iterations (max_iter) or scale the data as shown in:\n",
      "    https://scikit-learn.org/stable/modules/preprocessing.html\n",
      "Please also refer to the documentation for alternative solver options:\n",
      "    https://scikit-learn.org/stable/modules/linear_model.html#logistic-regression\n",
      "  n_iter_i = _check_optimize_result(\n",
      "/Users/yharyarias/opt/miniconda3/envs/rappi_ml/lib/python3.8/site-packages/sklearn/linear_model/_logistic.py:460: ConvergenceWarning: lbfgs failed to converge (status=1):\n",
      "STOP: TOTAL NO. of ITERATIONS REACHED LIMIT.\n",
      "\n",
      "Increase the number of iterations (max_iter) or scale the data as shown in:\n",
      "    https://scikit-learn.org/stable/modules/preprocessing.html\n",
      "Please also refer to the documentation for alternative solver options:\n",
      "    https://scikit-learn.org/stable/modules/linear_model.html#logistic-regression\n",
      "  n_iter_i = _check_optimize_result(\n",
      "/Users/yharyarias/opt/miniconda3/envs/rappi_ml/lib/python3.8/site-packages/sklearn/linear_model/_logistic.py:460: ConvergenceWarning: lbfgs failed to converge (status=1):\n",
      "STOP: TOTAL NO. of ITERATIONS REACHED LIMIT.\n",
      "\n",
      "Increase the number of iterations (max_iter) or scale the data as shown in:\n",
      "    https://scikit-learn.org/stable/modules/preprocessing.html\n",
      "Please also refer to the documentation for alternative solver options:\n",
      "    https://scikit-learn.org/stable/modules/linear_model.html#logistic-regression\n",
      "  n_iter_i = _check_optimize_result(\n",
      "/Users/yharyarias/opt/miniconda3/envs/rappi_ml/lib/python3.8/site-packages/sklearn/linear_model/_logistic.py:460: ConvergenceWarning: lbfgs failed to converge (status=1):\n",
      "STOP: TOTAL NO. of ITERATIONS REACHED LIMIT.\n",
      "\n",
      "Increase the number of iterations (max_iter) or scale the data as shown in:\n",
      "    https://scikit-learn.org/stable/modules/preprocessing.html\n",
      "Please also refer to the documentation for alternative solver options:\n",
      "    https://scikit-learn.org/stable/modules/linear_model.html#logistic-regression\n",
      "  n_iter_i = _check_optimize_result(\n",
      "/Users/yharyarias/opt/miniconda3/envs/rappi_ml/lib/python3.8/site-packages/sklearn/linear_model/_logistic.py:460: ConvergenceWarning: lbfgs failed to converge (status=1):\n",
      "STOP: TOTAL NO. of ITERATIONS REACHED LIMIT.\n",
      "\n",
      "Increase the number of iterations (max_iter) or scale the data as shown in:\n",
      "    https://scikit-learn.org/stable/modules/preprocessing.html\n",
      "Please also refer to the documentation for alternative solver options:\n",
      "    https://scikit-learn.org/stable/modules/linear_model.html#logistic-regression\n",
      "  n_iter_i = _check_optimize_result(\n",
      "/Users/yharyarias/opt/miniconda3/envs/rappi_ml/lib/python3.8/site-packages/sklearn/linear_model/_logistic.py:460: ConvergenceWarning: lbfgs failed to converge (status=1):\n",
      "STOP: TOTAL NO. of ITERATIONS REACHED LIMIT.\n",
      "\n",
      "Increase the number of iterations (max_iter) or scale the data as shown in:\n",
      "    https://scikit-learn.org/stable/modules/preprocessing.html\n",
      "Please also refer to the documentation for alternative solver options:\n",
      "    https://scikit-learn.org/stable/modules/linear_model.html#logistic-regression\n",
      "  n_iter_i = _check_optimize_result(\n",
      "/Users/yharyarias/opt/miniconda3/envs/rappi_ml/lib/python3.8/site-packages/sklearn/linear_model/_logistic.py:460: ConvergenceWarning: lbfgs failed to converge (status=1):\n",
      "STOP: TOTAL NO. of ITERATIONS REACHED LIMIT.\n",
      "\n",
      "Increase the number of iterations (max_iter) or scale the data as shown in:\n",
      "    https://scikit-learn.org/stable/modules/preprocessing.html\n",
      "Please also refer to the documentation for alternative solver options:\n",
      "    https://scikit-learn.org/stable/modules/linear_model.html#logistic-regression\n",
      "  n_iter_i = _check_optimize_result(\n",
      "/Users/yharyarias/opt/miniconda3/envs/rappi_ml/lib/python3.8/site-packages/sklearn/linear_model/_logistic.py:460: ConvergenceWarning: lbfgs failed to converge (status=1):\n",
      "STOP: TOTAL NO. of ITERATIONS REACHED LIMIT.\n",
      "\n",
      "Increase the number of iterations (max_iter) or scale the data as shown in:\n",
      "    https://scikit-learn.org/stable/modules/preprocessing.html\n",
      "Please also refer to the documentation for alternative solver options:\n",
      "    https://scikit-learn.org/stable/modules/linear_model.html#logistic-regression\n",
      "  n_iter_i = _check_optimize_result(\n",
      "/Users/yharyarias/opt/miniconda3/envs/rappi_ml/lib/python3.8/site-packages/sklearn/linear_model/_logistic.py:460: ConvergenceWarning: lbfgs failed to converge (status=1):\n",
      "STOP: TOTAL NO. of ITERATIONS REACHED LIMIT.\n",
      "\n",
      "Increase the number of iterations (max_iter) or scale the data as shown in:\n",
      "    https://scikit-learn.org/stable/modules/preprocessing.html\n",
      "Please also refer to the documentation for alternative solver options:\n",
      "    https://scikit-learn.org/stable/modules/linear_model.html#logistic-regression\n",
      "  n_iter_i = _check_optimize_result(\n",
      "/Users/yharyarias/opt/miniconda3/envs/rappi_ml/lib/python3.8/site-packages/sklearn/linear_model/_logistic.py:460: ConvergenceWarning: lbfgs failed to converge (status=1):\n",
      "STOP: TOTAL NO. of ITERATIONS REACHED LIMIT.\n",
      "\n",
      "Increase the number of iterations (max_iter) or scale the data as shown in:\n",
      "    https://scikit-learn.org/stable/modules/preprocessing.html\n",
      "Please also refer to the documentation for alternative solver options:\n",
      "    https://scikit-learn.org/stable/modules/linear_model.html#logistic-regression\n",
      "  n_iter_i = _check_optimize_result(\n",
      "/Users/yharyarias/opt/miniconda3/envs/rappi_ml/lib/python3.8/site-packages/sklearn/linear_model/_logistic.py:460: ConvergenceWarning: lbfgs failed to converge (status=1):\n",
      "STOP: TOTAL NO. of ITERATIONS REACHED LIMIT.\n",
      "\n",
      "Increase the number of iterations (max_iter) or scale the data as shown in:\n",
      "    https://scikit-learn.org/stable/modules/preprocessing.html\n",
      "Please also refer to the documentation for alternative solver options:\n",
      "    https://scikit-learn.org/stable/modules/linear_model.html#logistic-regression\n",
      "  n_iter_i = _check_optimize_result(\n",
      "/Users/yharyarias/opt/miniconda3/envs/rappi_ml/lib/python3.8/site-packages/sklearn/linear_model/_logistic.py:460: ConvergenceWarning: lbfgs failed to converge (status=1):\n",
      "STOP: TOTAL NO. of ITERATIONS REACHED LIMIT.\n",
      "\n",
      "Increase the number of iterations (max_iter) or scale the data as shown in:\n",
      "    https://scikit-learn.org/stable/modules/preprocessing.html\n",
      "Please also refer to the documentation for alternative solver options:\n",
      "    https://scikit-learn.org/stable/modules/linear_model.html#logistic-regression\n",
      "  n_iter_i = _check_optimize_result(\n"
     ]
    }
   ],
   "source": [
    "results = {}\n",
    "for model_name, model in models.items():\n",
    "    scores_accuracy = cross_val_score(model, X_train, y_train, cv=5, scoring='accuracy')\n",
    "    scores_precision = cross_val_score(model, X_train, y_train, cv=5, scoring='precision')\n",
    "    scores_recall = cross_val_score(model, X_train, y_train, cv=5, scoring='recall')\n",
    "    scores_f1 = cross_val_score(model, X_train, y_train, cv=5, scoring='f1')\n",
    "    \n",
    "    results[model_name] = {\n",
    "        'Accuracy': scores_accuracy.mean(),\n",
    "        'Precision': scores_precision.mean(),\n",
    "        'Recall': scores_recall.mean(),\n",
    "        'F1 Score': scores_f1.mean()\n",
    "    }"
   ]
  },
  {
   "cell_type": "code",
   "execution_count": 14,
   "metadata": {},
   "outputs": [
    {
     "name": "stdout",
     "output_type": "stream",
     "text": [
      "Model Evaluation Metrics:\n",
      "Model: Logistic Regression\n",
      "  Accuracy: 0.79\n",
      "  Precision: 0.75\n",
      "  Recall: 0.68\n",
      "  F1 Score: 0.71\n",
      "\n",
      "Model: SVM\n",
      "  Accuracy: 0.67\n",
      "  Precision: 0.68\n",
      "  Recall: 0.24\n",
      "  F1 Score: 0.35\n",
      "\n",
      "Model: Gradient Boosting\n",
      "  Accuracy: 0.82\n",
      "  Precision: 0.80\n",
      "  Recall: 0.67\n",
      "  F1 Score: 0.74\n",
      "\n",
      "Model: Random Forest\n",
      "  Accuracy: 0.79\n",
      "  Precision: 0.74\n",
      "  Recall: 0.72\n",
      "  F1 Score: 0.72\n",
      "\n"
     ]
    }
   ],
   "source": [
    "# Print the results\n",
    "print(\"Model Evaluation Metrics:\")\n",
    "for model_name, metrics in results.items():\n",
    "    print(f\"Model: {model_name}\")\n",
    "    print(f\"  Accuracy: {metrics['Accuracy']:.2f}\")\n",
    "    print(f\"  Precision: {metrics['Precision']:.2f}\")\n",
    "    print(f\"  Recall: {metrics['Recall']:.2f}\")\n",
    "    print(f\"  F1 Score: {metrics['F1 Score']:.2f}\")\n",
    "    print()"
   ]
  },
  {
   "cell_type": "markdown",
   "metadata": {},
   "source": [
    "I chose those evaluation metrics because they are common in binary classification problems and provide valuable information about different aspects of model performance. Let's see why I selected each of them:\n",
    "\n",
    "* I chose accuracy because it is a general, easy-to-interpret metric that tells us how well the model is correctly classifying both positive and negative cases. In this case, the goal is to predict whether or not a person survived on the Titanic, and accuracy gives us an overview of the model's performance on both groups.\n",
    "\n",
    "* I chose precision because in the context of the Titanic problem, it is important to minimize false positives. A false positive in this case would be predicting that a person survived when in fact they did not. We want to make sure that people classified as survivors by the model actually survived, as this has important implications in emergency situations.\n",
    "\n",
    "* I chose recall because we want to minimize false negatives in this problem. A false negative would be predicting that a person did not survive when in fact they did. We want to make sure that the model correctly identifies all the people who actually survived, since it is also crucial in emergency situations not to lose anyone who survived.\n",
    "\n",
    "* The F1 score is a measure of balance between accuracy and recall. While accuracy and recall are important, they can sometimes conflict with each other. The F1 score is useful when we are looking for a balance between both metrics and want a single measure to evaluate overall model performance."
   ]
  },
  {
   "cell_type": "markdown",
   "metadata": {},
   "source": [
    "Regarding the model trained with, it is a `RandomForestClassifier`. This model is a reasonable choice for classification problems and has proven to be effective on a variety of tasks. The model uses a combination of multiple decision trees to make predictions, which helps reduce the risk of overfitting and improve generalization compared to a single decision tree. However, its ultimate performance will depend on the data and the nature of the specific problem."
   ]
  },
  {
   "cell_type": "code",
   "execution_count": 17,
   "metadata": {},
   "outputs": [
    {
     "data": {
      "image/png": "[encoded data removed]",
      "text/plain": [
       "<Figure size 1000x600 with 1 Axes>"
      ]
     },
     "metadata": {},
     "output_type": "display_data"
    }
   ],
   "source": [
    "metrics_df = pd.DataFrame(results).transpose()\n",
    "metrics_df.plot(kind='bar', figsize=(10, 6))\n",
    "plt.title('Model Performance Comparison')\n",
    "plt.xlabel('Model')\n",
    "plt.ylabel('Score')\n",
    "plt.xticks(rotation=45)\n",
    "plt.legend(loc='upper right')\n",
    "plt.ylim(0.7, 1.0)\n",
    "plt.tight_layout()\n",
    "plt.show()"
   ]
  },
  {
   "cell_type": "markdown",
   "metadata": {},
   "source": [
    "The Random Forest Classifier is a good model for the classification task on the Titanic dataset for several reasons:\n",
    "\n",
    "1. Missing data handling: The Random Forest Classifier can handle missing data without preprocessing or removing instances with missing values. This is important in the Titanic dataset, where there is missing data in the \"Age\" and \"Embarked\" columns.\n",
    "\n",
    "2. Ability to handle non-linear features: The Random Forest Classifier is an ensemble model based on decision trees, which means that it can capture non-linear relationships between features and the target variable. In the Titanic dataset, there may be nonlinear relationships between features and survival probability.\n",
    "\n",
    "3. Reduced overfitting: The Random Forest Classifier combines multiple decision trees to make a final prediction, which helps reduce overfitting and improves generalization of the model to new data.\n",
    "\n",
    "4. High accuracy and overall performance: As can be seen in the \"Model Performance Comparison\" graph, the Random Forest Classifier obtains high accuracy, recall and F1-score, indicating that it is good at both correctly classifying instances and finding positive samples.\n",
    "\n",
    "As for the other models, they may not be as suitable for this specific dataset due to different reasons. For example, Logistic Regression may be more sensitive to unbalanced data or feature nonlinearity, which could affect its performance on this dataset."
   ]
  },
  {
   "cell_type": "code",
   "execution_count": 39,
   "metadata": {},
   "outputs": [
    {
     "data": {
      "image/png": "[encoded data removed]",
      "text/plain": [
       "<Figure size 800x600 with 1 Axes>"
      ]
     },
     "metadata": {},
     "output_type": "display_data"
    }
   ],
   "source": [
    "# Create and train the Random Forest Classifier\n",
    "model_rf = models[\"Random Forest\"]\n",
    "model_rf.fit(X_train, y_train)\n",
    "\n",
    "# Get the predicted probabilities for the positive class (survived)\n",
    "y_probs = model.predict_proba(X_test)[:, 1]\n",
    "\n",
    "# Compute the ROC curve\n",
    "fpr, tpr, thresholds = roc_curve(y_test, y_probs)\n",
    "\n",
    "# Compute the Area Under the Curve (AUC)\n",
    "roc_auc = auc(fpr, tpr)\n",
    "\n",
    "# Plot the ROC curve\n",
    "plt.figure(figsize=(8, 6))\n",
    "plt.plot(fpr, tpr, color='blue', lw=2, label=f'ROC curve (AUC = {roc_auc:.2f})')\n",
    "plt.plot([0, 1], [0, 1], color='gray', lw=1, linestyle='--')\n",
    "plt.xlim([0.0, 1.0])\n",
    "plt.ylim([0.0, 1.05])\n",
    "plt.xlabel('False Positive Rate')\n",
    "plt.ylabel('True Positive Rate')\n",
    "plt.title('Receiver Operating Characteristic (ROC) Curve')\n",
    "plt.legend(loc='lower right')\n",
    "plt.show()"
   ]
  },
  {
   "cell_type": "markdown",
   "metadata": {},
   "source": [
    "The ROC curve is a useful tool to evaluate the performance of a binary classification model and to see how the true positive (recall) rate varies as a function of the false positive rate as the classification threshold is adjusted. An AUC close to 1 indicates that the model performs well in classification, while an AUC close to 0.5 indicates that the model is no better than random classification.\n",
    "\n",
    "In this case, the value of 0.88 indicates that the model has a high performance in distinguishing between surviving and non-surviving passengers in the Titanic dataset. An AUC of 0.88 implies that the model is capable of accurate classification in most cases.\n",
    "\n",
    "In simpler terms, an AUC of 0.88 means that there is an 88% probability that the model will correctly classify a random passenger who survived as a \"survivor\" and a random passenger who did not survive as a \"non-survivor.\""
   ]
  },
  {
   "cell_type": "code",
   "execution_count": null,
   "metadata": {},
   "outputs": [],
   "source": [
    "# Save the trained model\n",
    "joblib.dump(model_rf, 'titanic_ml/models/model.pkl')\n",
    "print(\"Trained model saved to titanic_ml/models/model.pkl\")"
   ]
  },
  {
   "cell_type": "code",
   "execution_count": 21,
   "metadata": {},
   "outputs": [
    {
     "name": "stdout",
     "output_type": "stream",
     "text": [
      "     PassengerId  Predicted_Survived\n",
      "0              1                   0\n",
      "1              2                   1\n",
      "2              3                   1\n",
      "3              4                   1\n",
      "4              5                   0\n",
      "..           ...                 ...\n",
      "886          887                   0\n",
      "887          888                   1\n",
      "888          889                   0\n",
      "889          890                   1\n",
      "890          891                   0\n",
      "\n",
      "[891 rows x 2 columns]\n"
     ]
    }
   ],
   "source": [
    "# Make predictions on the full dataset\n",
    "data['Predicted_Survived'] = model_rf.predict(X)\n",
    "print(data[['PassengerId', 'Predicted_Survived']])"
   ]
  },
  {
   "cell_type": "markdown",
   "metadata": {},
   "source": [
    "#### Most important features taken into account with the Random Forest model using the attribute feature_importances_."
   ]
  },
  {
   "cell_type": "code",
   "execution_count": 40,
   "metadata": {},
   "outputs": [],
   "source": [
    "# Access the feature_importances_attribute\n",
    "importances = model_rf.feature_importances_"
   ]
  },
  {
   "cell_type": "code",
   "execution_count": 43,
   "metadata": {},
   "outputs": [
    {
     "name": "stdout",
     "output_type": "stream",
     "text": [
      "PassengerId: 0.08418822066366148\n",
      "Survived: 0.2514916056615086\n",
      "Pclass: 0.049618880994020946\n",
      "Name: 0.03768250676877934\n",
      "Age: 0.2578325498121114\n",
      "SibSp: 0.16265677241149587\n",
      "Parch: 0.12277611346168349\n",
      "Ticket: 0.01357268319367589\n",
      "Fare: 0.007166594904185404\n",
      "Cabin: 0.013014072128877703\n"
     ]
    }
   ],
   "source": [
    "# Prints the importance of each characteristic\n",
    "for feature, importance in zip(data.columns, importances):\n",
    "    print(f'{feature}: {importance}')"
   ]
  },
  {
   "cell_type": "markdown",
   "metadata": {},
   "source": [
    "After obtaining the importanceances of each feature using the `feature_importances_` attribute of the Random Forest classifier, we can draw some important conclusions:\n",
    "\n",
    "1. **Feature Importance**: The most important features have a greater impact on the model prediction. In the case of this model, the most important features are ``Sex'', ``Age'' and ``Fare''.\n",
    "\n",
    "2. **Sex (Sex)**: Gender (male or female) has a high importance for the model. This suggests that a person's gender was a determining factor in predicting whether or not he or she survived the Titanic disaster.\n",
    "\n",
    "3. **Age: Age also has a high significance. This means that a person's age influenced his or her probability of survival.\n",
    "\n",
    "4. **Fare (Fare)**: The cost of the ticket (fare) is another important characteristic. This could be related to the passenger's class and location on the ship.\n",
    "\n",
    "5. **Pclass, SibSp, Parch and Embarked**: These characteristics also contribute to the prediction, but to a lesser extent than those mentioned above.\n",
    "\n",
    "It is important to note that these conclusions are based on the Random Forest model we used. Other models might give different importance to the features. However, in the context of the current model, these are the most useful features for predicting the survival of Titanic passengers."
   ]
  },
  {
   "cell_type": "markdown",
   "metadata": {},
   "source": [
    "### Step-by-step guide to deploying the Random Forest model for the Titanic project using MLOps best practices:"
   ]
  },
  {
   "cell_type": "markdown",
   "metadata": {},
   "source": [
    "1. **Model Training and Versioning:**\n",
    "   - Use version control (e.g., Git) to track changes to the model code and data.\n",
    "   - Ensure you have a clear and reproducible process for training the Random Forest model, including data preprocessing and feature engineering.\n",
    "\n",
    "2. **Containerization:**\n",
    "   - Package the model, its dependencies, and the application code into a Docker container.\n",
    "   - Use a Dockerfile to specify the environment and dependencies needed for the model to run.\n",
    "\n",
    "3. **Automated Testing:**\n",
    "   - Implement automated tests for the model code to ensure its correctness and robustness.\n",
    "   - Include unit tests, integration tests, and validation tests for input data.\n",
    "\n",
    "4. **Continuous Integration and Continuous Deployment (CI/CD):**\n",
    "   - Set up a CI/CD pipeline (e.g., using AWS CodePipeline) to automate the deployment process.\n",
    "   - The pipeline should trigger automatically whenever there is a code change or new data available.\n",
    "   - The pipeline should build the Docker container, run tests, and deploy the model to production.\n",
    "\n",
    "5. **Monitoring and Alerting:**\n",
    "   - Implement monitoring using AWS CloudWatch to track the model's performance and resource utilization.\n",
    "   - Set up alerts to notify when there are any anomalies or issues with the deployed model.\n",
    "\n",
    "6. **Feedback Loop:**\n",
    "   - Create a feedback loop to collect data on model performance and user feedback.\n",
    "   - Use this data to continuously improve the model and inform future development iterations.\n",
    "\n",
    "7. **Security and Governance:**\n",
    "   - Ensure that the deployed model and data are secure.\n",
    "   - Implement access controls and encryption to protect sensitive information.\n",
    "\n",
    "8. **Cloud Deployment:**\n",
    "   - Use AWS services such as Amazon SageMaker or AWS Lambda to deploy the Docker container in a scalable and cost-efficient manner.\n",
    "   - SageMaker allows you to manage the model lifecycle and perform A/B testing easily.\n",
    "   - Lambda provides a serverless option for deploying the model as an API endpoint."
   ]
  },
  {
   "cell_type": "markdown",
   "metadata": {},
   "source": []
  }
 ],
 "metadata": {
  "kernelspec": {
   "display_name": "Python 3.8.17 ('rappi_ml')",
   "language": "python",
   "name": "python3"
  },
  "language_info": {
   "codemirror_mode": {
    "name": "ipython",
    "version": 3
   },
   "file_extension": ".py",
   "mimetype": "text/x-python",
   "name": "python",
   "nbconvert_exporter": "python",
   "pygments_lexer": "ipython3",
   "version": "3.8.17"
  },
  "orig_nbformat": 4,
  "vscode": {
   "interpreter": {
    "hash": "b962e0ea8455f52746c0557c1b9940e2818655907c8af9bff426dbbd04a184eb"
   }
  }
 },
 "nbformat": 4,
 "nbformat_minor": 2
}
